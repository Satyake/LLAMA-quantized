{
 "cells": [
  {
   "cell_type": "code",
   "execution_count": 4,
   "metadata": {},
   "outputs": [],
   "source": [
    "from langchain import PromptTemplate\n",
    "from langchain import LLMChain\n",
    "from langchain.llms import CTransformers"
   ]
  },
  {
   "cell_type": "code",
   "execution_count": 10,
   "metadata": {},
   "outputs": [],
   "source": [
    "DEFAULT_PROMPT=\"You are a book summarizer and can provide updated summaries\"\n",
    "B_INST, E_INST=\"[INST]\", \"[/INST]\"\n",
    "B_SYS,E_SYS=\"<<SYS>>>\\n\", \"\\n<<<SYS>>>\\n\\n\"\n",
    "instruction=\"Convert the following text from english to french \\n\\n {text}\"\n",
    "\n",
    "instruction=\"Give a proper summary of the book of \\n\\n {text}\"\n",
    "SYSTEM_PROMPT=B_SYS+DEFAULT_PROMPT+E_SYS\n",
    "template=B_INST+SYSTEM_PROMPT+instruction+E_INST"
   ]
  },
  {
   "cell_type": "code",
   "execution_count": 11,
   "metadata": {},
   "outputs": [
    {
     "data": {
      "text/plain": [
       "'[INST]<<SYS>>>\\nYou are a book summarizer and can provide updated summaries\\n<<<SYS>>>\\n\\nGive a proper summary of the book of \\n\\n {text}[/INST]'"
      ]
     },
     "execution_count": 11,
     "metadata": {},
     "output_type": "execute_result"
    }
   ],
   "source": [
    "template"
   ]
  },
  {
   "cell_type": "code",
   "execution_count": 12,
   "metadata": {},
   "outputs": [],
   "source": [
    "prompt=PromptTemplate(template=template, input_variables=['text'])"
   ]
  },
  {
   "cell_type": "code",
   "execution_count": 13,
   "metadata": {},
   "outputs": [],
   "source": [
    "llm=CTransformers(model='llama-2-7b-chat.ggmlv3.q4_0.bin',\n",
    "                  model_type='llama',\n",
    "                  config={'max_new_tokens': 128,'temperature':0.01})\n",
    "llmchain=LLMChain(llm=llm, prompt=prompt)"
   ]
  },
  {
   "cell_type": "code",
   "execution_count": 14,
   "metadata": {},
   "outputs": [
    {
     "name": "stdout",
     "output_type": "stream",
     "text": [
      "  Certainly! Here is an updated summary of the book \"Harry Potter\" by J.K. Rowling:\n",
      "\n",
      "\"Harry Potter\" is a magical adventure that follows the journey of a young wizard named Harry Potter as he attends Hogwarts School of Witchcraft and Wizardry. Born to a poor but loving family, Harry discovers on his eleventh birthday that he is the son of two powerful wizards who were killed by the dark wizard Lord Voldemort.\n",
      "\n",
      "Harry begins his first year at Hogwarts, where\n"
     ]
    }
   ],
   "source": [
    "print(llmchain.run(\"Harry Potter\"))"
   ]
  },
  {
   "cell_type": "code",
   "execution_count": null,
   "metadata": {},
   "outputs": [],
   "source": []
  }
 ],
 "metadata": {
  "kernelspec": {
   "display_name": "transformers",
   "language": "python",
   "name": "python3"
  },
  "language_info": {
   "codemirror_mode": {
    "name": "ipython",
    "version": 3
   },
   "file_extension": ".py",
   "mimetype": "text/x-python",
   "name": "python",
   "nbconvert_exporter": "python",
   "pygments_lexer": "ipython3",
   "version": "3.9.18"
  }
 },
 "nbformat": 4,
 "nbformat_minor": 2
}
